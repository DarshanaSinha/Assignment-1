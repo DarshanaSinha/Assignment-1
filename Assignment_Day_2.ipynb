{
  "nbformat": 4,
  "nbformat_minor": 0,
  "metadata": {
    "colab": {
      "provenance": []
    },
    "kernelspec": {
      "name": "python3",
      "display_name": "Python 3"
    },
    "language_info": {
      "name": "python"
    }
  },
  "cells": [
    {
      "cell_type": "markdown",
      "source": [
        "Q-1\n"
      ],
      "metadata": {
        "id": "hDq-MtRJkhb9"
      }
    },
    {
      "cell_type": "code",
      "source": [
        "numbers = [1, 2, 3, 4, 2, 5, 2]\n",
        "value_to_remove = 2\n",
        "\n",
        "while value_to_remove in numbers:\n",
        "    numbers.remove(value_to_remove)\n",
        "\n",
        "print(numbers)\n"
      ],
      "metadata": {
        "colab": {
          "base_uri": "https://localhost:8080/",
          "height": 0
        },
        "id": "uL1APrZXkjCr",
        "outputId": "a88b9c79-f296-4ce0-89b5-027047e7b905"
      },
      "execution_count": 1,
      "outputs": [
        {
          "output_type": "stream",
          "name": "stdout",
          "text": [
            "[1, 3, 4, 5]\n"
          ]
        }
      ]
    },
    {
      "cell_type": "code",
      "source": [],
      "metadata": {
        "id": "tesb5D9fmNLu"
      },
      "execution_count": null,
      "outputs": []
    },
    {
      "cell_type": "markdown",
      "source": [
        "Q-2"
      ],
      "metadata": {
        "id": "xoswsiMYmXyF"
      }
    },
    {
      "cell_type": "code",
      "source": [
        "# List of strings\n",
        "words = [\"Data\", \"Science\", \"is\", \"awesome\"]\n",
        "\n",
        "# Use join() to concatenate with spaces\n",
        "result = \" \".join(words)\n",
        "\n",
        "print(result)\n"
      ],
      "metadata": {
        "colab": {
          "base_uri": "https://localhost:8080/",
          "height": 0
        },
        "id": "enAVS5vwmYlP",
        "outputId": "ec4b9615-f11c-452c-886e-744d1a978a55"
      },
      "execution_count": 3,
      "outputs": [
        {
          "output_type": "stream",
          "name": "stdout",
          "text": [
            "Data Science is awesome\n"
          ]
        }
      ]
    },
    {
      "cell_type": "markdown",
      "source": [
        "Q-3"
      ],
      "metadata": {
        "id": "A2zSfd53mk_j"
      }
    },
    {
      "cell_type": "code",
      "source": [
        "# List of integers\n",
        "numbers = [1, 2, 3, 4, 5]\n",
        "\n",
        "# Reverse the list in place\n",
        "numbers.reverse()\n",
        "\n",
        "print(numbers)\n"
      ],
      "metadata": {
        "colab": {
          "base_uri": "https://localhost:8080/",
          "height": 0
        },
        "id": "uGDWfjsLml9A",
        "outputId": "6dff088d-a2e8-4e0d-806e-5160c55f70b2"
      },
      "execution_count": 4,
      "outputs": [
        {
          "output_type": "stream",
          "name": "stdout",
          "text": [
            "[5, 4, 3, 2, 1]\n"
          ]
        }
      ]
    },
    {
      "cell_type": "markdown",
      "source": [
        "Q-4"
      ],
      "metadata": {
        "id": "j5i2Cnb8mu2W"
      }
    },
    {
      "cell_type": "code",
      "source": [
        "# List of numbers\n",
        "numbers = [3, 1, 4, 1, 5, 9, 2]\n",
        "\n",
        "# Sort the list in descending order\n",
        "numbers.sort(reverse=True)\n",
        "\n",
        "print(numbers)\n"
      ],
      "metadata": {
        "colab": {
          "base_uri": "https://localhost:8080/",
          "height": 0
        },
        "id": "ObwyKb-Dmvid",
        "outputId": "c1f421c3-1fcb-46ca-f143-22e94cd16a88"
      },
      "execution_count": 5,
      "outputs": [
        {
          "output_type": "stream",
          "name": "stdout",
          "text": [
            "[9, 5, 4, 3, 2, 1, 1]\n"
          ]
        }
      ]
    },
    {
      "cell_type": "markdown",
      "source": [
        "Q-5"
      ],
      "metadata": {
        "id": "i83nmrLIm13B"
      }
    },
    {
      "cell_type": "code",
      "source": [
        "# Two lists of numbers\n",
        "list1 = [1, 2, 3, 4]\n",
        "list2 = [3, 4, 5, 6]\n",
        "\n",
        "# Combine the lists and remove duplicates\n",
        "combined_list = list(set(list1 + list2))\n",
        "\n",
        "print(combined_list)\n"
      ],
      "metadata": {
        "colab": {
          "base_uri": "https://localhost:8080/",
          "height": 0
        },
        "id": "59cDRLm-m2ju",
        "outputId": "e4ece54f-eadd-4275-d7ee-0c2e440b779e"
      },
      "execution_count": 6,
      "outputs": [
        {
          "output_type": "stream",
          "name": "stdout",
          "text": [
            "[1, 2, 3, 4, 5, 6]\n"
          ]
        }
      ]
    },
    {
      "cell_type": "markdown",
      "source": [
        "Q-6"
      ],
      "metadata": {
        "id": "3oe7pU0inF8L"
      }
    },
    {
      "cell_type": "code",
      "source": [
        "# Tuple of integers\n",
        "numbers_tuple = (10, 20, 30, 40, 50)\n",
        "\n",
        "# Convert the tuple into a list\n",
        "numbers_list = list(numbers_tuple)\n",
        "\n",
        "# Remove the first and last elements\n",
        "modified_list = numbers_list[1:-1]\n",
        "\n",
        "print(modified_list)\n"
      ],
      "metadata": {
        "colab": {
          "base_uri": "https://localhost:8080/",
          "height": 0
        },
        "id": "bwJgmLgSnGn3",
        "outputId": "f79e0487-d464-43b2-ad44-109c31bf8806"
      },
      "execution_count": 7,
      "outputs": [
        {
          "output_type": "stream",
          "name": "stdout",
          "text": [
            "[20, 30, 40]\n"
          ]
        }
      ]
    },
    {
      "cell_type": "markdown",
      "source": [
        "Q-7"
      ],
      "metadata": {
        "id": "oRULeMqvnPlH"
      }
    },
    {
      "cell_type": "code",
      "source": [
        "# List of tuples\n",
        "tuples_list = [(1, 'a'), (2, 'b'), (3, 'c'), (4, 'd')]\n",
        "\n",
        "# Extract the first elements using tuple unpacking\n",
        "first_elements = [x for x, _ in tuples_list]\n",
        "\n",
        "print(first_elements)\n"
      ],
      "metadata": {
        "colab": {
          "base_uri": "https://localhost:8080/",
          "height": 0
        },
        "id": "uPGXOwy_nQx5",
        "outputId": "75fd7256-520b-4cb9-c6e1-1a3f2330934f"
      },
      "execution_count": 8,
      "outputs": [
        {
          "output_type": "stream",
          "name": "stdout",
          "text": [
            "[1, 2, 3, 4]\n"
          ]
        }
      ]
    },
    {
      "cell_type": "markdown",
      "source": [
        "Q-8"
      ],
      "metadata": {
        "id": "D_gDaGRWnXuk"
      }
    },
    {
      "cell_type": "code",
      "source": [
        "# Two tuples\n",
        "tuple1 = (1, 2, 3)\n",
        "tuple2 = (4, 5, 6)\n",
        "\n",
        "# Combine the tuples\n",
        "combined_tuple = tuple1 + tuple2\n",
        "\n",
        "print(combined_tuple)"
      ],
      "metadata": {
        "colab": {
          "base_uri": "https://localhost:8080/",
          "height": 0
        },
        "id": "71r14yH7nYlj",
        "outputId": "e91283dc-c636-4ccf-8124-20e157b76429"
      },
      "execution_count": 9,
      "outputs": [
        {
          "output_type": "stream",
          "name": "stdout",
          "text": [
            "(1, 2, 3, 4, 5, 6)\n"
          ]
        }
      ]
    },
    {
      "cell_type": "markdown",
      "source": [
        "Q-9"
      ],
      "metadata": {
        "id": "Wv9zizgVngPh"
      }
    },
    {
      "cell_type": "code",
      "source": [
        "# Tuple of numbers\n",
        "numbers_tuple = (10, 20, 5, 40, 15)\n",
        "\n",
        "# Find the maximum and minimum values\n",
        "max_value = max(numbers_tuple)\n",
        "min_value = min(numbers_tuple)\n",
        "\n",
        "print(f\"Maximum Value: {max_value}\")\n",
        "print(f\"Minimum Value: {min_value}\")\n"
      ],
      "metadata": {
        "colab": {
          "base_uri": "https://localhost:8080/",
          "height": 0
        },
        "id": "xI_KozZxnhD6",
        "outputId": "8cf6aa46-658c-422d-9ae4-07e27c1093e7"
      },
      "execution_count": 10,
      "outputs": [
        {
          "output_type": "stream",
          "name": "stdout",
          "text": [
            "Maximum Value: 40\n",
            "Minimum Value: 5\n"
          ]
        }
      ]
    },
    {
      "cell_type": "markdown",
      "source": [
        "Q-10"
      ],
      "metadata": {
        "id": "WgI57FAhnrUI"
      }
    },
    {
      "cell_type": "code",
      "source": [
        "# Tuple of strings\n",
        "strings_tuple = (\"apple\", \"banana\", \"cherry\")\n",
        "\n",
        "# Convert the tuple into a single string with comma separation\n",
        "result = \", \".join(strings_tuple)\n",
        "\n",
        "print(result)\n"
      ],
      "metadata": {
        "colab": {
          "base_uri": "https://localhost:8080/",
          "height": 0
        },
        "id": "eL83Idnensjw",
        "outputId": "113a6aea-9ae7-4f97-b680-403882e1a135"
      },
      "execution_count": 11,
      "outputs": [
        {
          "output_type": "stream",
          "name": "stdout",
          "text": [
            "apple, banana, cherry\n"
          ]
        }
      ]
    },
    {
      "cell_type": "markdown",
      "source": [
        "Q-11"
      ],
      "metadata": {
        "id": "PCvlLP0Wn1cj"
      }
    },
    {
      "cell_type": "code",
      "source": [
        "# Two sets\n",
        "set1 = {1, 2, 3}\n",
        "set2 = {3, 4, 5}\n",
        "\n",
        "# Using the | operator to get the union\n",
        "union_set = set1 | set2\n",
        "\n",
        "# Alternatively, using the .union() method\n",
        "# union_set = set1.union(set2)\n",
        "\n",
        "print(union_set)\n"
      ],
      "metadata": {
        "colab": {
          "base_uri": "https://localhost:8080/",
          "height": 0
        },
        "id": "W2ssQKfSn2G4",
        "outputId": "76daf4ef-b107-423f-cc6d-3d652cf06acb"
      },
      "execution_count": 12,
      "outputs": [
        {
          "output_type": "stream",
          "name": "stdout",
          "text": [
            "{1, 2, 3, 4, 5}\n"
          ]
        }
      ]
    },
    {
      "cell_type": "markdown",
      "source": [
        "Q-12"
      ],
      "metadata": {
        "id": "4aVCMG2jn7Qt"
      }
    },
    {
      "cell_type": "code",
      "source": [
        "# Two sets\n",
        "set1 = {1, 2, 3, 4}\n",
        "set2 = {3, 4, 5, 6}\n",
        "\n",
        "# Using the .intersection() method\n",
        "intersection_set = set1.intersection(set2)\n",
        "\n",
        "# Alternatively, using the & operator\n",
        "# intersection_set = set1 & set2\n",
        "\n",
        "print(intersection_set)\n"
      ],
      "metadata": {
        "colab": {
          "base_uri": "https://localhost:8080/",
          "height": 0
        },
        "id": "8MIEEbsfn8EZ",
        "outputId": "a40dcd06-5f5c-4511-8965-5bd4bd14b85b"
      },
      "execution_count": 13,
      "outputs": [
        {
          "output_type": "stream",
          "name": "stdout",
          "text": [
            "{3, 4}\n"
          ]
        }
      ]
    },
    {
      "cell_type": "markdown",
      "source": [
        "Q-13"
      ],
      "metadata": {
        "id": "6YqmkllZoCvl"
      }
    },
    {
      "cell_type": "code",
      "source": [
        "# Two sets\n",
        "set1 = {1, 2, 3, 4, 5}\n",
        "set2 = {3, 4, 6}\n",
        "\n",
        "# Using the .difference_update() method\n",
        "set1.difference_update(set2)\n",
        "\n",
        "# Alternatively, using the -= operator\n",
        "# set1 -= set2\n",
        "\n",
        "print(set1)\n"
      ],
      "metadata": {
        "colab": {
          "base_uri": "https://localhost:8080/",
          "height": 0
        },
        "id": "KUIY8qjmoDST",
        "outputId": "887ad958-1d32-4ca0-ff38-8d769c703569"
      },
      "execution_count": 14,
      "outputs": [
        {
          "output_type": "stream",
          "name": "stdout",
          "text": [
            "{1, 2, 5}\n"
          ]
        }
      ]
    },
    {
      "cell_type": "markdown",
      "source": [
        "Q-14"
      ],
      "metadata": {
        "id": "ZESfirZZoJxi"
      }
    },
    {
      "cell_type": "code",
      "source": [
        "# Two sets\n",
        "set1 = {1, 2, 3, 4, 5}\n",
        "set2 = {3, 4, 6}\n",
        "\n",
        "# Using the .difference() method\n",
        "difference_set = set1.difference(set2)\n",
        "\n",
        "# Alternatively, using the - operator\n",
        "# difference_set = set1 - set2\n",
        "\n",
        "print(difference_set)\n"
      ],
      "metadata": {
        "colab": {
          "base_uri": "https://localhost:8080/",
          "height": 0
        },
        "id": "YgkBRSXWoKmg",
        "outputId": "04ceb483-8ddc-4b18-c088-fef8fc0291b9"
      },
      "execution_count": 15,
      "outputs": [
        {
          "output_type": "stream",
          "name": "stdout",
          "text": [
            "{1, 2, 5}\n"
          ]
        }
      ]
    },
    {
      "cell_type": "markdown",
      "source": [
        "Q-15"
      ],
      "metadata": {
        "id": "lSF7De9DoQLb"
      }
    },
    {
      "cell_type": "code",
      "source": [
        "# List of integers with duplicates\n",
        "numbers_list = [1, 2, 3, 2, 4, 5, 1]\n",
        "\n",
        "# Convert the list to a set to remove duplicates\n",
        "numbers_set = set(numbers_list)\n",
        "\n",
        "# Convert the set back to a list\n",
        "unique_numbers_list = list(numbers_set)\n",
        "\n",
        "print(unique_numbers_list)\n"
      ],
      "metadata": {
        "colab": {
          "base_uri": "https://localhost:8080/",
          "height": 0
        },
        "id": "zhuxpm56oQxQ",
        "outputId": "8dddf36c-ded5-4aa9-dc2f-f6f7d80ac618"
      },
      "execution_count": 16,
      "outputs": [
        {
          "output_type": "stream",
          "name": "stdout",
          "text": [
            "[1, 2, 3, 4, 5]\n"
          ]
        }
      ]
    },
    {
      "cell_type": "markdown",
      "source": [
        "Q-16"
      ],
      "metadata": {
        "id": "kiXamSqmoV7n"
      }
    },
    {
      "cell_type": "code",
      "source": [
        "# Two dictionaries\n",
        "dict1 = {'a': 1, 'b': 2}\n",
        "dict2 = {'b': 3, 'c': 4}\n",
        "\n",
        "# Create a copy of the first dictionary\n",
        "merged_dict = dict1.copy()\n",
        "\n",
        "# Update the copy with the second dictionary\n",
        "merged_dict.update(dict2)\n",
        "\n",
        "print(merged_dict)\n"
      ],
      "metadata": {
        "colab": {
          "base_uri": "https://localhost:8080/",
          "height": 0
        },
        "id": "G-ivwH5ioWoQ",
        "outputId": "93d8ff8e-94e0-4247-e64a-e27cd2774607"
      },
      "execution_count": 17,
      "outputs": [
        {
          "output_type": "stream",
          "name": "stdout",
          "text": [
            "{'a': 1, 'b': 3, 'c': 4}\n"
          ]
        }
      ]
    },
    {
      "cell_type": "markdown",
      "source": [
        "Q-17"
      ],
      "metadata": {
        "id": "y7xp-g7ooelP"
      }
    },
    {
      "cell_type": "code",
      "source": [
        "# Sample dictionary\n",
        "my_dict = {'a': 1, 'b': 2, 'c': 3}\n",
        "\n",
        "# Extract all values and convert to a list\n",
        "values_list = list(my_dict.values())\n",
        "\n",
        "print(values_list)\n"
      ],
      "metadata": {
        "colab": {
          "base_uri": "https://localhost:8080/",
          "height": 0
        },
        "id": "k8b0bt54ofN8",
        "outputId": "4916d498-c31e-4e41-8a17-1c45c809d5de"
      },
      "execution_count": 18,
      "outputs": [
        {
          "output_type": "stream",
          "name": "stdout",
          "text": [
            "[1, 2, 3]\n"
          ]
        }
      ]
    },
    {
      "cell_type": "code",
      "source": [],
      "metadata": {
        "id": "AL6yl8_eolYL"
      },
      "execution_count": null,
      "outputs": []
    }
  ]
}
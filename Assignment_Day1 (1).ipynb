{
  "nbformat": 4,
  "nbformat_minor": 0,
  "metadata": {
    "colab": {
      "provenance": []
    },
    "kernelspec": {
      "name": "python3",
      "display_name": "Python 3"
    },
    "language_info": {
      "name": "python"
    }
  },
  "cells": [
    {
      "cell_type": "code",
      "execution_count": null,
      "metadata": {
        "id": "KBf22SZM8B48"
      },
      "outputs": [],
      "source": []
    },
    {
      "cell_type": "markdown",
      "source": [
        "Q-1"
      ],
      "metadata": {
        "id": "4ZJ-B8Oj82n_"
      }
    },
    {
      "cell_type": "code",
      "source": [
        "import pandas as pd\n",
        "\n",
        "def convert_zigzag(s: str, numRows: int) -> str:\n",
        "    if numRows == 1 or numRows >= len(s):\n",
        "        return s\n",
        "\n",
        "    # Initialize a DataFrame to store zigzag characters\n",
        "    zigzag = pd.DataFrame([''] * len(s), columns=['Char'])\n",
        "    row, step = 0, 1\n",
        "\n",
        "    # Store characters in a column based on zigzag pattern\n",
        "    for i, char in enumerate(s):\n",
        "        zigzag.at[i, 'Row'] = row  # Mark the row\n",
        "        zigzag.at[i, 'Char'] = char\n",
        "\n",
        "        if row == 0 or row == numRows - 1:\n",
        "            step *= -1  # Change direction\n",
        "        row += step\n",
        "\n",
        "    # Group by rows and concatenate characters in the same row\n",
        "    result = zigzag.groupby('Row')['Char'].sum()\n",
        "    return ''.join(result)\n",
        "\n",
        "# Example usage\n",
        "s = \"PAYPALISHIRING\"\n",
        "numRows = 3\n",
        "print(convert_zigzag(s, numRows))\n"
      ],
      "metadata": {
        "colab": {
          "base_uri": "https://localhost:8080/",
          "height": 0
        },
        "id": "xlzChfS284Ya",
        "outputId": "211f770f-275d-440b-ad91-8e3d54c61fd4"
      },
      "execution_count": 1,
      "outputs": [
        {
          "output_type": "stream",
          "name": "stdout",
          "text": [
            "GNIRIHSILAPYAP\n"
          ]
        }
      ]
    },
    {
      "cell_type": "markdown",
      "source": [
        "Q-2"
      ],
      "metadata": {
        "id": "Zjsb8bi89883"
      }
    },
    {
      "cell_type": "code",
      "source": [
        "import pandas as pd\n",
        "\n",
        "def compress_string(s: str) -> str:\n",
        "    data = pd.DataFrame({'Char': list(s), 'Index': range(len(s))})\n",
        "    data['Group'] = (data['Char'] != data['Char'].shift()).cumsum()\n",
        "\n",
        "    compressed = data.groupby('Group')['Char'].agg(['first', 'size'])\n",
        "    result = ''.join(compressed['first'] + compressed['size'].astype(str))\n",
        "\n",
        "    return result if len(result) < len(s) else s\n",
        "\n",
        "# Example usage\n",
        "input_str = \"aabcccccaaa\"\n",
        "print(compress_string(input_str))\n",
        "\n"
      ],
      "metadata": {
        "colab": {
          "base_uri": "https://localhost:8080/",
          "height": 0
        },
        "id": "kGGo8Kjj9-MW",
        "outputId": "47ac3d74-2b20-4051-ed76-3d0a71f4c98d"
      },
      "execution_count": 3,
      "outputs": [
        {
          "output_type": "stream",
          "name": "stdout",
          "text": [
            "a2b1c5a3\n"
          ]
        }
      ]
    },
    {
      "cell_type": "markdown",
      "source": [
        "Q-3"
      ],
      "metadata": {
        "id": "grZkJ5tv-RS4"
      }
    },
    {
      "cell_type": "code",
      "source": [
        "import pandas as pd\n",
        "from itertools import permutations\n",
        "\n",
        "def generate_permutations(s: str) -> pd.DataFrame:\n",
        "    perm_list = [''.join(p) for p in permutations(s)]\n",
        "    return pd.DataFrame(perm_list, columns=['Permutations'])\n",
        "\n",
        "# Example usage\n",
        "input_str = \"ABC\"\n",
        "result = generate_permutations(input_str)\n",
        "print(result)\n"
      ],
      "metadata": {
        "colab": {
          "base_uri": "https://localhost:8080/",
          "height": 0
        },
        "id": "cvMH6xGZ-SFa",
        "outputId": "6fd05883-8a3c-461d-d14b-2bb7c2ebafe6"
      },
      "execution_count": 4,
      "outputs": [
        {
          "output_type": "stream",
          "name": "stdout",
          "text": [
            "  Permutations\n",
            "0          ABC\n",
            "1          ACB\n",
            "2          BAC\n",
            "3          BCA\n",
            "4          CAB\n",
            "5          CBA\n"
          ]
        }
      ]
    },
    {
      "cell_type": "markdown",
      "source": [
        "Q-4"
      ],
      "metadata": {
        "id": "mb3XbkecAY6y"
      }
    },
    {
      "cell_type": "code",
      "source": [
        "import pandas as pd\n",
        "\n",
        "def group_anagrams(words):\n",
        "    # Create a DataFrame to store words and their sorted version\n",
        "    df = pd.DataFrame(words, columns=['Word'])\n",
        "    df['Sorted'] = df['Word'].apply(lambda x: ''.join(sorted(x)))\n",
        "\n",
        "    # Group by the sorted version of the words\n",
        "    grouped = df.groupby('Sorted')['Word'].apply(list).reset_index(name='Anagrams')\n",
        "\n",
        "    return grouped\n",
        "\n",
        "# Example usage\n",
        "words = [\"eat\", \"tea\", \"tan\", \"ate\", \"nat\", \"bat\"]\n",
        "result = group_anagrams(words)\n",
        "print(result)\n"
      ],
      "metadata": {
        "colab": {
          "base_uri": "https://localhost:8080/",
          "height": 0
        },
        "id": "mZP6Tch5AaPO",
        "outputId": "7f95e48f-718e-4717-ca09-baa369709c34"
      },
      "execution_count": 5,
      "outputs": [
        {
          "output_type": "stream",
          "name": "stdout",
          "text": [
            "  Sorted         Anagrams\n",
            "0    abt            [bat]\n",
            "1    aet  [eat, tea, ate]\n",
            "2    ant       [tan, nat]\n"
          ]
        }
      ]
    },
    {
      "cell_type": "markdown",
      "source": [
        "Q-5"
      ],
      "metadata": {
        "id": "Kuatecr7AlFD"
      }
    },
    {
      "cell_type": "code",
      "source": [
        "import pandas as pd\n",
        "\n",
        "def multiply_large_numbers(num1: str, num2: str) -> str:\n",
        "    # Initialize a DataFrame to store the intermediate results\n",
        "    n1, n2 = len(num1), len(num2)\n",
        "    result_df = pd.DataFrame(0, index=range(n2), columns=range(n1 + n2))\n",
        "\n",
        "    # Perform multiplication like manual multiplication on paper\n",
        "    for i in range(n2 - 1, -1, -1):\n",
        "        for j in range(n1 - 1, -1, -1):\n",
        "            product = int(num2[i]) * int(num1[j])\n",
        "            pos = (n2 - 1 - i) + (n1 - 1 - j)\n",
        "            result_df.at[i, pos] += product  # Store in corresponding position\n",
        "\n",
        "    # Sum up each diagonal to account for the carry-over\n",
        "    carry = 0\n",
        "    final_result = []\n",
        "    for col in range(result_df.shape[1]):\n",
        "        total = result_df[col].sum() + carry\n",
        "        final_result.append(total % 10)  # Keep only the last digit\n",
        "        carry = total // 10  # Carry over to the next column\n",
        "\n",
        "    # Add any remaining carry\n",
        "    while carry:\n",
        "        final_result.append(carry % 10)\n",
        "        carry //= 10\n",
        "\n",
        "    # Join the result in reverse since we started from the least significant digit\n",
        "    result_str = ''.join(map(str, final_result[::-1])).lstrip('0')\n",
        "    return result_str or '0'\n",
        "\n",
        "# Example usage\n",
        "num1 = \"123\"\n",
        "num2 = \"456\"\n",
        "print(multiply_large_numbers(num1, num2))\n"
      ],
      "metadata": {
        "colab": {
          "base_uri": "https://localhost:8080/",
          "height": 0
        },
        "id": "L6SP8vZqAmAa",
        "outputId": "79a5cc57-916e-47c3-9011-84c294c2f872"
      },
      "execution_count": 6,
      "outputs": [
        {
          "output_type": "stream",
          "name": "stdout",
          "text": [
            "56088\n"
          ]
        }
      ]
    },
    {
      "cell_type": "markdown",
      "source": [
        "Q-6"
      ],
      "metadata": {
        "id": "9mKJYzjrA2uD"
      }
    },
    {
      "cell_type": "code",
      "source": [
        "import pandas as pd\n",
        "\n",
        "def is_rotation(str1: str, str2: str) -> bool:\n",
        "    # Check if both strings have the same length and are not empty\n",
        "    if len(str1) != len(str2) or not str1:\n",
        "        return False\n",
        "\n",
        "    # Create a DataFrame to hold both strings for potential further analysis\n",
        "    df = pd.DataFrame({'Original': [str1], 'Potential_Rotation': [str2]})\n",
        "\n",
        "    # Check if str2 is a substring of str1 + str1 (rotation logic)\n",
        "    result = df['Potential_Rotation'].iloc[0] in (df['Original'].iloc[0] * 2)\n",
        "    return result\n",
        "\n",
        "# Example usage\n",
        "str1 = \"ABCD\"\n",
        "str2 = \"DABC\"\n",
        "print(is_rotation(str1, str2))  # Output: True\n"
      ],
      "metadata": {
        "colab": {
          "base_uri": "https://localhost:8080/",
          "height": 0
        },
        "id": "z0ENAsicA3vs",
        "outputId": "5b27ddd9-78b2-4e42-ae7e-b484c44a8902"
      },
      "execution_count": 7,
      "outputs": [
        {
          "output_type": "stream",
          "name": "stdout",
          "text": [
            "True\n"
          ]
        }
      ]
    },
    {
      "cell_type": "markdown",
      "source": [
        "Q-7"
      ],
      "metadata": {
        "id": "Eg42NV3wBMzj"
      }
    },
    {
      "cell_type": "code",
      "source": [
        "import pandas as pd\n",
        "\n",
        "def is_valid_parentheses(s: str) -> bool:\n",
        "    # Data to store opening and closing brackets in a DataFrame\n",
        "    bracket_data = {'Open': ['(', '{', '['], 'Close': [')', '}', ']']}\n",
        "    brackets_df = pd.DataFrame(bracket_data)\n",
        "\n",
        "    # Stack to keep track of open brackets\n",
        "    stack = []\n",
        "\n",
        "    # Iterate over each character in the input string\n",
        "    for char in s:\n",
        "        if char in brackets_df['Open'].values:\n",
        "            stack.append(char)  # Push open bracket onto the stack\n",
        "        elif char in brackets_df['Close'].values:\n",
        "            if not stack or brackets_df['Close'].loc[brackets_df['Open'] == stack.pop()].values[0] != char:\n",
        "                return False  # Mismatched or unbalanced\n",
        "\n",
        "    # Check if the stack is empty at the end\n",
        "    return len(stack) == 0\n",
        "\n",
        "# Example usage\n",
        "input_str = \"()[]{}\"\n",
        "print(is_valid_parentheses(input_str))\n"
      ],
      "metadata": {
        "colab": {
          "base_uri": "https://localhost:8080/",
          "height": 0
        },
        "id": "i3GlUF0gBN5m",
        "outputId": "67305251-1f59-4f5f-aa31-3e42d41a4641"
      },
      "execution_count": 8,
      "outputs": [
        {
          "output_type": "stream",
          "name": "stdout",
          "text": [
            "True\n"
          ]
        }
      ]
    },
    {
      "cell_type": "markdown",
      "source": [
        "Q-8"
      ],
      "metadata": {
        "id": "GbBeootVBbQj"
      }
    },
    {
      "cell_type": "code",
      "source": [
        "def my_atoi(s: str) -> int:\n",
        "    # Define the range limits for a 32-bit signed integer\n",
        "    INT_MIN, INT_MAX = -2**31, 2**31 - 1\n",
        "\n",
        "    # Strip leading whitespace\n",
        "    s = s.lstrip()\n",
        "    if not s:\n",
        "        return 0\n",
        "\n",
        "    # Initialize variables\n",
        "    sign = 1\n",
        "    index = 0\n",
        "    num = 0\n",
        "\n",
        "    # Check for sign\n",
        "    if s[index] in ('+', '-'):\n",
        "        sign = -1 if s[index] == '-' else 1\n",
        "        index += 1\n",
        "\n",
        "    # Convert characters to integer\n",
        "    while index < len(s) and s[index].isdigit():\n",
        "        digit = int(s[index])\n",
        "        # Handle overflow\n",
        "        if num > (INT_MAX - digit) // 10:\n",
        "            return INT_MAX if sign == 1 else INT_MIN\n",
        "        num = num * 10 + digit\n",
        "        index += 1\n",
        "\n",
        "    return sign * num\n",
        "\n",
        "# Example usage\n",
        "input_str = \"4193 with words\"\n",
        "result = my_atoi(input_str)\n",
        "print(result)  # Output: 4193\n"
      ],
      "metadata": {
        "colab": {
          "base_uri": "https://localhost:8080/",
          "height": 0
        },
        "id": "hXxDkRCqBcPs",
        "outputId": "7c562316-f1d6-4bc1-b8f4-da9887f50a2f"
      },
      "execution_count": 9,
      "outputs": [
        {
          "output_type": "stream",
          "name": "stdout",
          "text": [
            "4193\n"
          ]
        }
      ]
    },
    {
      "cell_type": "markdown",
      "source": [
        "Q-9"
      ],
      "metadata": {
        "id": "OxLkH9_MB1jh"
      }
    },
    {
      "cell_type": "code",
      "source": [
        "def count_and_say(n: int) -> str:\n",
        "    if n == 1:\n",
        "        return \"1\"\n",
        "\n",
        "    # Get the previous term\n",
        "    previous_term = count_and_say(n - 1)\n",
        "    result = \"\"\n",
        "    count = 1\n",
        "\n",
        "    # Build the next term based on the previous term\n",
        "    for i in range(1, len(previous_term)):\n",
        "        if previous_term[i] == previous_term[i - 1]:\n",
        "            count += 1  # Increment count for the same digit\n",
        "        else:\n",
        "            result += str(count) + previous_term[i - 1]  # Append count and digit\n",
        "            count = 1  # Reset count for the new digit\n",
        "\n",
        "    # Append the last counted digit\n",
        "    result += str(count) + previous_term[-1]\n",
        "\n",
        "    return result\n",
        "\n",
        "# Example usage\n",
        "n = 4\n",
        "result = count_and_say(n)\n",
        "print(result)  # Output: \"1211\"\n"
      ],
      "metadata": {
        "colab": {
          "base_uri": "https://localhost:8080/",
          "height": 0
        },
        "id": "69o7x3x6B2Ui",
        "outputId": "3c4518fa-3e02-4692-8edb-071fd21e5863"
      },
      "execution_count": 10,
      "outputs": [
        {
          "output_type": "stream",
          "name": "stdout",
          "text": [
            "1211\n"
          ]
        }
      ]
    },
    {
      "cell_type": "markdown",
      "source": [
        "Q-10"
      ],
      "metadata": {
        "id": "F0uO5zM0CIpc"
      }
    },
    {
      "cell_type": "code",
      "source": [
        "from collections import Counter, defaultdict\n",
        "\n",
        "def min_window(s: str, t: str) -> str:\n",
        "    if not s or not t:\n",
        "        return \"\"\n",
        "\n",
        "    # Count characters in t\n",
        "    t_count = Counter(t)\n",
        "    required = len(t_count)\n",
        "\n",
        "    # Initialize pointers and variables\n",
        "    left, right = 0, 0\n",
        "    formed = 0\n",
        "    window_counts = defaultdict(int)\n",
        "    min_length = float('inf')\n",
        "    min_window = \"\"\n",
        "\n",
        "    while right < len(s):\n",
        "        char = s[right]\n",
        "        window_counts[char] += 1\n",
        "\n",
        "        # Check if the current character contributes to a valid window\n",
        "        if char in t_count and window_counts[char] == t_count[char]:\n",
        "            formed += 1\n",
        "\n",
        "        # Try to contract the window until it's no longer valid\n",
        "        while left <= right and formed == required:\n",
        "            char = s[left]\n",
        "\n",
        "            # Update the minimum window\n",
        "            if right - left + 1 < min_length:\n",
        "                min_length = right - left + 1\n",
        "                min_window = s[left:right + 1]\n",
        "\n",
        "            # Remove the leftmost character from the window\n",
        "            window_counts[char] -= 1\n",
        "            if char in t_count and window_counts[char] < t_count[char]:\n",
        "                formed -= 1\n",
        "\n",
        "            left += 1  # Move the left pointer to the right\n",
        "\n",
        "        right += 1  # Move the right pointer to the right\n",
        "\n",
        "    return min_window\n",
        "\n",
        "# Example usage\n",
        "s = \"ADOBECODEBANC\"\n",
        "t = \"ABC\"\n",
        "result = min_window(s, t)\n",
        "print(result)  # Output: \"BANC\"\n"
      ],
      "metadata": {
        "colab": {
          "base_uri": "https://localhost:8080/",
          "height": 0
        },
        "id": "KdQS9y6yCJoI",
        "outputId": "e19c1d58-05be-4f4d-a2b8-6d9a5861778b"
      },
      "execution_count": 11,
      "outputs": [
        {
          "output_type": "stream",
          "name": "stdout",
          "text": [
            "BANC\n"
          ]
        }
      ]
    },
    {
      "cell_type": "markdown",
      "source": [
        "Q-11"
      ],
      "metadata": {
        "id": "XydQKqnGCU8w"
      }
    },
    {
      "cell_type": "code",
      "source": [
        "def length_of_longest_substring(s: str) -> int:\n",
        "    char_set = set()  # Set to store characters in the current substring\n",
        "    left = 0  # Left pointer for the sliding window\n",
        "    max_length = 0  # Variable to track the maximum length of substring\n",
        "\n",
        "    for right in range(len(s)):\n",
        "        # If the character is already in the set, move the left pointer to the right\n",
        "        while s[right] in char_set:\n",
        "            char_set.remove(s[left])\n",
        "            left += 1\n",
        "\n",
        "        # Add the current character to the set\n",
        "        char_set.add(s[right])\n",
        "\n",
        "        # Update the maximum length\n",
        "        max_length = max(max_length, right - left + 1)\n",
        "\n",
        "    return max_length\n",
        "\n",
        "# Example usage\n",
        "input_str = \"abcabcbb\"\n",
        "result = length_of_longest_substring(input_str)\n",
        "print(result)  # Output: 3\n"
      ],
      "metadata": {
        "colab": {
          "base_uri": "https://localhost:8080/",
          "height": 0
        },
        "id": "-WMPGPoeCVxM",
        "outputId": "4b2345ac-684d-44e3-e771-5a57f474a9b5"
      },
      "execution_count": 12,
      "outputs": [
        {
          "output_type": "stream",
          "name": "stdout",
          "text": [
            "3\n"
          ]
        }
      ]
    },
    {
      "cell_type": "markdown",
      "source": [
        "Q-12"
      ],
      "metadata": {
        "id": "d-3V2CJNCb6J"
      }
    },
    {
      "cell_type": "code",
      "source": [
        "def is_interleave(s1: str, s2: str, s3: str) -> bool:\n",
        "    # Check if the length of s3 is equal to the combined length of s1 and s2\n",
        "    if len(s1) + len(s2) != len(s3):\n",
        "        return False\n",
        "\n",
        "    # Create a DP table to store results\n",
        "    dp = [[False] * (len(s2) + 1) for _ in range(len(s1) + 1)]\n",
        "\n",
        "    # Initialize the DP table\n",
        "    dp[0][0] = True  # Both s1 and s2 are empty, so s3 is also empty\n",
        "\n",
        "    # Fill the first row (using only s2)\n",
        "    for j in range(1, len(s2) + 1):\n",
        "        dp[0][j] = dp[0][j - 1] and s2[j - 1] == s3[j - 1]\n",
        "\n",
        "    # Fill the first column (using only s1)\n",
        "    for i in range(1, len(s1) + 1):\n",
        "        dp[i][0] = dp[i - 1][0] and s1[i - 1] == s3[i - 1]\n",
        "\n",
        "    # Fill the rest of the DP table\n",
        "    for i in range(1, len(s1) + 1):\n",
        "        for j in range(1, len(s2) + 1):\n",
        "            dp[i][j] = (dp[i - 1][j] and s1[i - 1] == s3[i + j - 1]) or \\\n",
        "                       (dp[i][j - 1] and s2[j - 1] == s3[i + j - 1])\n",
        "\n",
        "    return dp[len(s1)][len(s2)]\n",
        "\n",
        "# Example usage\n",
        "s1 = \"aabcc\"\n",
        "s2 = \"dbbca\"\n",
        "s3 = \"aadbbcbcac\"\n",
        "result = is_interleave(s1, s2, s3)\n",
        "print(result)  # Output: True\n"
      ],
      "metadata": {
        "colab": {
          "base_uri": "https://localhost:8080/",
          "height": 0
        },
        "id": "EczdYJSSCcj-",
        "outputId": "3e5432a9-90c2-4750-f994-9534cdfea301"
      },
      "execution_count": 13,
      "outputs": [
        {
          "output_type": "stream",
          "name": "stdout",
          "text": [
            "True\n"
          ]
        }
      ]
    },
    {
      "cell_type": "markdown",
      "source": [
        "Q-13"
      ],
      "metadata": {
        "id": "szC-W0D4Ck5s"
      }
    },
    {
      "cell_type": "code",
      "source": [
        "def roman_to_integer(s: str) -> int:\n",
        "    # Map of Roman numerals to integers\n",
        "    roman_map = {\n",
        "        'I': 1,\n",
        "        'V': 5,\n",
        "        'X': 10,\n",
        "        'L': 50,\n",
        "        'C': 100,\n",
        "        'D': 500,\n",
        "        'M': 1000\n",
        "    }\n",
        "\n",
        "    total = 0\n",
        "    prev_value = 0\n",
        "\n",
        "    # Iterate over the Roman numeral string in reverse\n",
        "    for char in reversed(s):\n",
        "        current_value = roman_map[char]\n",
        "\n",
        "        # If the current value is less than the previous value, subtract it\n",
        "        if current_value < prev_value:\n",
        "            total -= current_value\n",
        "        else:\n",
        "            total += current_value\n",
        "\n",
        "        # Update previous value for the next iteration\n",
        "        prev_value = current_value\n",
        "\n",
        "    return total\n",
        "\n",
        "# Example usage\n",
        "input_str = \"MCMXCIV\"\n",
        "result = roman_to_integer(input_str)\n",
        "print(result)  # Output: 1994\n"
      ],
      "metadata": {
        "colab": {
          "base_uri": "https://localhost:8080/",
          "height": 0
        },
        "id": "AGX_niz5ClnJ",
        "outputId": "29cdbd0c-95ce-40f8-89c0-64a97e344c1a"
      },
      "execution_count": 14,
      "outputs": [
        {
          "output_type": "stream",
          "name": "stdout",
          "text": [
            "1994\n"
          ]
        }
      ]
    },
    {
      "cell_type": "markdown",
      "source": [
        "Q-14"
      ],
      "metadata": {
        "id": "hubdtf-LCwD1"
      }
    },
    {
      "cell_type": "code",
      "source": [
        "def longest_common_substring(str1: str, str2: str) -> str:\n",
        "    m, n = len(str1), len(str2)\n",
        "    # Create a 2D DP table to store lengths of longest common suffixes\n",
        "    dp = [[0] * (n + 1) for _ in range(m + 1)]\n",
        "\n",
        "    longest_length = 0  # Length of longest common substring\n",
        "    ending_index = 0    # Ending index of the longest common substring in str1\n",
        "\n",
        "    # Build the DP table\n",
        "    for i in range(1, m + 1):\n",
        "        for j in range(1, n + 1):\n",
        "            if str1[i - 1] == str2[j - 1]:\n",
        "                dp[i][j] = dp[i - 1][j - 1] + 1  # Increment length of common substring\n",
        "                if dp[i][j] > longest_length:\n",
        "                    longest_length = dp[i][j]\n",
        "                    ending_index = i  # Update ending index\n",
        "            else:\n",
        "                dp[i][j] = 0  # Reset for non-matching characters\n",
        "\n",
        "    # Extract the longest common substring\n",
        "    longest_common_substr = str1[ending_index - longest_length: ending_index]\n",
        "\n",
        "    return longest_common_substr\n",
        "\n",
        "# Example usage\n",
        "str1 = \"ABABC\"\n",
        "str2 = \"BABCA\"\n",
        "result = longest_common_substring(str1, str2)\n",
        "print(result)  # Output: \"AB\" or \"BA\"\n"
      ],
      "metadata": {
        "colab": {
          "base_uri": "https://localhost:8080/",
          "height": 0
        },
        "id": "GyZhNQtcCxDt",
        "outputId": "09ee404e-c80b-494c-ea5a-c45a95edfa11"
      },
      "execution_count": 15,
      "outputs": [
        {
          "output_type": "stream",
          "name": "stdout",
          "text": [
            "BABC\n"
          ]
        }
      ]
    },
    {
      "cell_type": "markdown",
      "source": [
        "Q-15"
      ],
      "metadata": {
        "id": "B_avj-rWC7vE"
      }
    },
    {
      "cell_type": "code",
      "source": [
        "def word_break(s: str, wordDict: list) -> bool:\n",
        "    word_set = set(wordDict)  # Convert the word list to a set for O(1) lookups\n",
        "    dp = [False] * (len(s) + 1)  # DP array to store results\n",
        "    dp[0] = True  # Base case: empty string can be segmented\n",
        "\n",
        "    # Iterate through the string\n",
        "    for i in range(1, len(s) + 1):\n",
        "        for j in range(i):\n",
        "            # Check if the substring s[j:i] is in the word set\n",
        "            if dp[j] and s[j:i] in word_set:\n",
        "                dp[i] = True\n",
        "                break  # No need to check further if we found a valid segmentation\n",
        "\n",
        "    return dp[len(s)]\n",
        "\n",
        "# Example usage\n",
        "s = \"leetcode\"\n",
        "wordDict = [\"leet\", \"code\"]\n",
        "result = word_break(s, wordDict)\n",
        "print(result)  # Output: True\n"
      ],
      "metadata": {
        "colab": {
          "base_uri": "https://localhost:8080/",
          "height": 0
        },
        "id": "VXg6bK8PC8lj",
        "outputId": "e8bd8cf8-6b2c-4b5b-9539-fda7f49389a3"
      },
      "execution_count": 16,
      "outputs": [
        {
          "output_type": "stream",
          "name": "stdout",
          "text": [
            "True\n"
          ]
        }
      ]
    },
    {
      "cell_type": "markdown",
      "source": [
        "Q-16"
      ],
      "metadata": {
        "id": "CeqAXersDFpL"
      }
    },
    {
      "cell_type": "code",
      "source": [
        "from collections import deque\n",
        "\n",
        "def is_valid(s: str) -> bool:\n",
        "    # Helper function to check if the string is valid\n",
        "    count = 0\n",
        "    for char in s:\n",
        "        if char == '(':\n",
        "            count += 1\n",
        "        elif char == ')':\n",
        "            count -= 1\n",
        "        if count < 0:  # More closing brackets than opening\n",
        "            return False\n",
        "    return count == 0  # Return True if balanced\n",
        "\n",
        "def remove_invalid_parentheses(s: str):\n",
        "    # Initialize BFS\n",
        "    queue = deque([s])\n",
        "    visited = set([s])\n",
        "    found = False\n",
        "    results = []\n",
        "\n",
        "    while queue:\n",
        "        current = queue.popleft()\n",
        "\n",
        "        # If the current string is valid, add to results\n",
        "        if is_valid(current):\n",
        "            results.append(current)\n",
        "            found = True  # We found at least one valid string\n",
        "\n",
        "        # If we found valid strings, don't generate more combinations\n",
        "        if found:\n",
        "            continue\n",
        "\n",
        "        # Generate all possible states by removing one parenthesis\n",
        "        for i in range(len(current)):\n",
        "            if current[i] not in ('(', ')'):\n",
        "                continue  # Only consider parentheses\n",
        "            new_state = current[:i] + current[i + 1:]  # Remove the parenthesis\n",
        "            if new_state not in visited:\n",
        "                visited.add(new_state)\n",
        "                queue.append(new_state)\n",
        "\n",
        "    return results\n",
        "\n",
        "# Example usage\n",
        "input_str = \"()())()\"\n",
        "result = remove_invalid_parentheses(input_str)\n",
        "print(result)  # Output: ['()()()', '(())()']\n"
      ],
      "metadata": {
        "colab": {
          "base_uri": "https://localhost:8080/",
          "height": 0
        },
        "id": "5MvPNhazDHV7",
        "outputId": "93ad6b70-b25f-4717-e6a6-937092f538f3"
      },
      "execution_count": 17,
      "outputs": [
        {
          "output_type": "stream",
          "name": "stdout",
          "text": [
            "['(())()', '()()()']\n"
          ]
        }
      ]
    }
  ]
}